{
 "cells": [
  {
   "cell_type": "code",
   "execution_count": 1,
   "metadata": {},
   "outputs": [],
   "source": [
    "import pandas as pd"
   ]
  },
  {
   "cell_type": "code",
   "execution_count": 2,
   "metadata": {},
   "outputs": [],
   "source": [
    "df = pd.read_parquet(\"./key_all.parquet\")"
   ]
  },
  {
   "cell_type": "code",
   "execution_count": 7,
   "metadata": {},
   "outputs": [
    {
     "data": {
      "text/plain": [
       "3.0    189847\n",
       "2.0     56966\n",
       "1.0     20735\n",
       "Name: Rating, dtype: int64"
      ]
     },
     "execution_count": 7,
     "metadata": {},
     "output_type": "execute_result"
    }
   ],
   "source": [
    "df.Rating.value_counts()"
   ]
  },
  {
   "cell_type": "code",
   "execution_count": 3,
   "metadata": {},
   "outputs": [
    {
     "data": {
      "text/plain": [
       "(267548, 4)"
      ]
     },
     "execution_count": 3,
     "metadata": {},
     "output_type": "execute_result"
    }
   ],
   "source": [
    "df.shape"
   ]
  },
  {
   "cell_type": "code",
   "execution_count": 4,
   "metadata": {},
   "outputs": [],
   "source": [
    "df = df.drop_duplicates(ignore_index=True)"
   ]
  },
  {
   "cell_type": "code",
   "execution_count": 5,
   "metadata": {},
   "outputs": [
    {
     "data": {
      "text/html": [
       "<div>\n",
       "<style scoped>\n",
       "    .dataframe tbody tr th:only-of-type {\n",
       "        vertical-align: middle;\n",
       "    }\n",
       "\n",
       "    .dataframe tbody tr th {\n",
       "        vertical-align: top;\n",
       "    }\n",
       "\n",
       "    .dataframe thead th {\n",
       "        text-align: right;\n",
       "    }\n",
       "</style>\n",
       "<table border=\"1\" class=\"dataframe\">\n",
       "  <thead>\n",
       "    <tr style=\"text-align: right;\">\n",
       "      <th></th>\n",
       "      <th>Region</th>\n",
       "      <th>Rating</th>\n",
       "      <th>Category</th>\n",
       "      <th>Review</th>\n",
       "    </tr>\n",
       "  </thead>\n",
       "  <tbody>\n",
       "    <tr>\n",
       "      <th>0</th>\n",
       "      <td>종로구</td>\n",
       "      <td>3.0</td>\n",
       "      <td>한정식 / 백반 / 정통 한식</td>\n",
       "      <td>- 한줄평: 왜 이렇게 평점이 높은지 이해가 가는 집\\n- 주문 메뉴: 병어찜 중,...</td>\n",
       "    </tr>\n",
       "    <tr>\n",
       "      <th>1</th>\n",
       "      <td>종로구</td>\n",
       "      <td>3.0</td>\n",
       "      <td>한정식 / 백반 / 정통 한식</td>\n",
       "      <td>“얼마나 맛있는지 알지 못 할거야”</td>\n",
       "    </tr>\n",
       "    <tr>\n",
       "      <th>2</th>\n",
       "      <td>종로구</td>\n",
       "      <td>1.0</td>\n",
       "      <td>한정식 / 백반 / 정통 한식</td>\n",
       "      <td>먹으면서도 혼란스러웠고, 리뷰를 쓰는 지금도 혼란스럽다. 어떤 음식점이든 호불호가 ...</td>\n",
       "    </tr>\n",
       "    <tr>\n",
       "      <th>3</th>\n",
       "      <td>종로구</td>\n",
       "      <td>1.0</td>\n",
       "      <td>한정식 / 백반 / 정통 한식</td>\n",
       "      <td>비린거 싫어하는 사람은 먹지마세요</td>\n",
       "    </tr>\n",
       "    <tr>\n",
       "      <th>4</th>\n",
       "      <td>종로구</td>\n",
       "      <td>3.0</td>\n",
       "      <td>한정식 / 백반 / 정통 한식</td>\n",
       "      <td>#유명세가아깝지않은맛집\\n\\n유명하지만 다행히도 평일 점심 기준 자리 여유있는편\\n...</td>\n",
       "    </tr>\n",
       "    <tr>\n",
       "      <th>...</th>\n",
       "      <td>...</td>\n",
       "      <td>...</td>\n",
       "      <td>...</td>\n",
       "      <td>...</td>\n",
       "    </tr>\n",
       "    <tr>\n",
       "      <th>233474</th>\n",
       "      <td>서귀포시</td>\n",
       "      <td>3.0</td>\n",
       "      <td>고기 요리</td>\n",
       "      <td>제주도 올레길 7코스종점에 진짜 흑돼지맛집이 있네요.\\n고기.반찬 모두 맛있구요.\\...</td>\n",
       "    </tr>\n",
       "    <tr>\n",
       "      <th>233475</th>\n",
       "      <td>서귀포시</td>\n",
       "      <td>3.0</td>\n",
       "      <td>고기 요리</td>\n",
       "      <td>고기는 최고.반찬은 집에서먹는 맛이고요 ..써비스 친절도 최고입니다</td>\n",
       "    </tr>\n",
       "    <tr>\n",
       "      <th>233476</th>\n",
       "      <td>서귀포시</td>\n",
       "      <td>3.0</td>\n",
       "      <td>카페 / 디저트</td>\n",
       "      <td>애플파이와 하겐다즈 바닐라아이스크림\\n8500 원 넘나 비싸지만 최고오브 최고\\n사...</td>\n",
       "    </tr>\n",
       "    <tr>\n",
       "      <th>233477</th>\n",
       "      <td>서귀포시</td>\n",
       "      <td>2.0</td>\n",
       "      <td>카페 / 디저트</td>\n",
       "      <td>60, 70년대 향취 가득한 음악들과 카페 분위기가 잘 어울리는 카페. 디저트나 카...</td>\n",
       "    </tr>\n",
       "    <tr>\n",
       "      <th>233478</th>\n",
       "      <td>서귀포시</td>\n",
       "      <td>2.0</td>\n",
       "      <td>카페 / 디저트</td>\n",
       "      <td>제주도 모슬포에 위치한 카페!\\n분위기 너무 좋고 조용한 모슬포에서 즐겼던 디저트 ...</td>\n",
       "    </tr>\n",
       "  </tbody>\n",
       "</table>\n",
       "<p>233479 rows × 4 columns</p>\n",
       "</div>"
      ],
      "text/plain": [
       "       Region  Rating          Category  \\\n",
       "0         종로구     3.0  한정식 / 백반 / 정통 한식   \n",
       "1         종로구     3.0  한정식 / 백반 / 정통 한식   \n",
       "2         종로구     1.0  한정식 / 백반 / 정통 한식   \n",
       "3         종로구     1.0  한정식 / 백반 / 정통 한식   \n",
       "4         종로구     3.0  한정식 / 백반 / 정통 한식   \n",
       "...       ...     ...               ...   \n",
       "233474   서귀포시     3.0             고기 요리   \n",
       "233475   서귀포시     3.0             고기 요리   \n",
       "233476   서귀포시     3.0          카페 / 디저트   \n",
       "233477   서귀포시     2.0          카페 / 디저트   \n",
       "233478   서귀포시     2.0          카페 / 디저트   \n",
       "\n",
       "                                                   Review  \n",
       "0       - 한줄평: 왜 이렇게 평점이 높은지 이해가 가는 집\\n- 주문 메뉴: 병어찜 중,...  \n",
       "1                                     “얼마나 맛있는지 알지 못 할거야”  \n",
       "2       먹으면서도 혼란스러웠고, 리뷰를 쓰는 지금도 혼란스럽다. 어떤 음식점이든 호불호가 ...  \n",
       "3                                      비린거 싫어하는 사람은 먹지마세요  \n",
       "4       #유명세가아깝지않은맛집\\n\\n유명하지만 다행히도 평일 점심 기준 자리 여유있는편\\n...  \n",
       "...                                                   ...  \n",
       "233474  제주도 올레길 7코스종점에 진짜 흑돼지맛집이 있네요.\\n고기.반찬 모두 맛있구요.\\...  \n",
       "233475              고기는 최고.반찬은 집에서먹는 맛이고요 ..써비스 친절도 최고입니다  \n",
       "233476  애플파이와 하겐다즈 바닐라아이스크림\\n8500 원 넘나 비싸지만 최고오브 최고\\n사...  \n",
       "233477  60, 70년대 향취 가득한 음악들과 카페 분위기가 잘 어울리는 카페. 디저트나 카...  \n",
       "233478  제주도 모슬포에 위치한 카페!\\n분위기 너무 좋고 조용한 모슬포에서 즐겼던 디저트 ...  \n",
       "\n",
       "[233479 rows x 4 columns]"
      ]
     },
     "execution_count": 5,
     "metadata": {},
     "output_type": "execute_result"
    }
   ],
   "source": [
    "df"
   ]
  },
  {
   "cell_type": "code",
   "execution_count": 6,
   "metadata": {},
   "outputs": [
    {
     "data": {
      "text/plain": [
       "3.0    164964\n",
       "2.0     49634\n",
       "1.0     18881\n",
       "Name: Rating, dtype: int64"
      ]
     },
     "execution_count": 6,
     "metadata": {},
     "output_type": "execute_result"
    }
   ],
   "source": [
    "df.Rating.value_counts()"
   ]
  },
  {
   "cell_type": "code",
   "execution_count": 8,
   "metadata": {},
   "outputs": [],
   "source": [
    "df = df.drop_duplicates(subset=['Rating', 'Review'], ignore_index=True)"
   ]
  },
  {
   "cell_type": "code",
   "execution_count": 9,
   "metadata": {},
   "outputs": [
    {
     "data": {
      "text/html": [
       "<div>\n",
       "<style scoped>\n",
       "    .dataframe tbody tr th:only-of-type {\n",
       "        vertical-align: middle;\n",
       "    }\n",
       "\n",
       "    .dataframe tbody tr th {\n",
       "        vertical-align: top;\n",
       "    }\n",
       "\n",
       "    .dataframe thead th {\n",
       "        text-align: right;\n",
       "    }\n",
       "</style>\n",
       "<table border=\"1\" class=\"dataframe\">\n",
       "  <thead>\n",
       "    <tr style=\"text-align: right;\">\n",
       "      <th></th>\n",
       "      <th>Region</th>\n",
       "      <th>Rating</th>\n",
       "      <th>Category</th>\n",
       "      <th>Review</th>\n",
       "    </tr>\n",
       "  </thead>\n",
       "  <tbody>\n",
       "    <tr>\n",
       "      <th>0</th>\n",
       "      <td>종로구</td>\n",
       "      <td>3.0</td>\n",
       "      <td>한정식 / 백반 / 정통 한식</td>\n",
       "      <td>- 한줄평: 왜 이렇게 평점이 높은지 이해가 가는 집\\n- 주문 메뉴: 병어찜 중,...</td>\n",
       "    </tr>\n",
       "    <tr>\n",
       "      <th>1</th>\n",
       "      <td>종로구</td>\n",
       "      <td>3.0</td>\n",
       "      <td>한정식 / 백반 / 정통 한식</td>\n",
       "      <td>“얼마나 맛있는지 알지 못 할거야”</td>\n",
       "    </tr>\n",
       "    <tr>\n",
       "      <th>2</th>\n",
       "      <td>종로구</td>\n",
       "      <td>1.0</td>\n",
       "      <td>한정식 / 백반 / 정통 한식</td>\n",
       "      <td>먹으면서도 혼란스러웠고, 리뷰를 쓰는 지금도 혼란스럽다. 어떤 음식점이든 호불호가 ...</td>\n",
       "    </tr>\n",
       "    <tr>\n",
       "      <th>3</th>\n",
       "      <td>종로구</td>\n",
       "      <td>1.0</td>\n",
       "      <td>한정식 / 백반 / 정통 한식</td>\n",
       "      <td>비린거 싫어하는 사람은 먹지마세요</td>\n",
       "    </tr>\n",
       "    <tr>\n",
       "      <th>4</th>\n",
       "      <td>종로구</td>\n",
       "      <td>3.0</td>\n",
       "      <td>한정식 / 백반 / 정통 한식</td>\n",
       "      <td>#유명세가아깝지않은맛집\\n\\n유명하지만 다행히도 평일 점심 기준 자리 여유있는편\\n...</td>\n",
       "    </tr>\n",
       "    <tr>\n",
       "      <th>...</th>\n",
       "      <td>...</td>\n",
       "      <td>...</td>\n",
       "      <td>...</td>\n",
       "      <td>...</td>\n",
       "    </tr>\n",
       "    <tr>\n",
       "      <th>228057</th>\n",
       "      <td>서귀포시</td>\n",
       "      <td>3.0</td>\n",
       "      <td>고기 요리</td>\n",
       "      <td>제주도 올레길 7코스종점에 진짜 흑돼지맛집이 있네요.\\n고기.반찬 모두 맛있구요.\\...</td>\n",
       "    </tr>\n",
       "    <tr>\n",
       "      <th>228058</th>\n",
       "      <td>서귀포시</td>\n",
       "      <td>3.0</td>\n",
       "      <td>고기 요리</td>\n",
       "      <td>고기는 최고.반찬은 집에서먹는 맛이고요 ..써비스 친절도 최고입니다</td>\n",
       "    </tr>\n",
       "    <tr>\n",
       "      <th>228059</th>\n",
       "      <td>서귀포시</td>\n",
       "      <td>3.0</td>\n",
       "      <td>카페 / 디저트</td>\n",
       "      <td>애플파이와 하겐다즈 바닐라아이스크림\\n8500 원 넘나 비싸지만 최고오브 최고\\n사...</td>\n",
       "    </tr>\n",
       "    <tr>\n",
       "      <th>228060</th>\n",
       "      <td>서귀포시</td>\n",
       "      <td>2.0</td>\n",
       "      <td>카페 / 디저트</td>\n",
       "      <td>60, 70년대 향취 가득한 음악들과 카페 분위기가 잘 어울리는 카페. 디저트나 카...</td>\n",
       "    </tr>\n",
       "    <tr>\n",
       "      <th>228061</th>\n",
       "      <td>서귀포시</td>\n",
       "      <td>2.0</td>\n",
       "      <td>카페 / 디저트</td>\n",
       "      <td>제주도 모슬포에 위치한 카페!\\n분위기 너무 좋고 조용한 모슬포에서 즐겼던 디저트 ...</td>\n",
       "    </tr>\n",
       "  </tbody>\n",
       "</table>\n",
       "<p>228062 rows × 4 columns</p>\n",
       "</div>"
      ],
      "text/plain": [
       "       Region  Rating          Category  \\\n",
       "0         종로구     3.0  한정식 / 백반 / 정통 한식   \n",
       "1         종로구     3.0  한정식 / 백반 / 정통 한식   \n",
       "2         종로구     1.0  한정식 / 백반 / 정통 한식   \n",
       "3         종로구     1.0  한정식 / 백반 / 정통 한식   \n",
       "4         종로구     3.0  한정식 / 백반 / 정통 한식   \n",
       "...       ...     ...               ...   \n",
       "228057   서귀포시     3.0             고기 요리   \n",
       "228058   서귀포시     3.0             고기 요리   \n",
       "228059   서귀포시     3.0          카페 / 디저트   \n",
       "228060   서귀포시     2.0          카페 / 디저트   \n",
       "228061   서귀포시     2.0          카페 / 디저트   \n",
       "\n",
       "                                                   Review  \n",
       "0       - 한줄평: 왜 이렇게 평점이 높은지 이해가 가는 집\\n- 주문 메뉴: 병어찜 중,...  \n",
       "1                                     “얼마나 맛있는지 알지 못 할거야”  \n",
       "2       먹으면서도 혼란스러웠고, 리뷰를 쓰는 지금도 혼란스럽다. 어떤 음식점이든 호불호가 ...  \n",
       "3                                      비린거 싫어하는 사람은 먹지마세요  \n",
       "4       #유명세가아깝지않은맛집\\n\\n유명하지만 다행히도 평일 점심 기준 자리 여유있는편\\n...  \n",
       "...                                                   ...  \n",
       "228057  제주도 올레길 7코스종점에 진짜 흑돼지맛집이 있네요.\\n고기.반찬 모두 맛있구요.\\...  \n",
       "228058              고기는 최고.반찬은 집에서먹는 맛이고요 ..써비스 친절도 최고입니다  \n",
       "228059  애플파이와 하겐다즈 바닐라아이스크림\\n8500 원 넘나 비싸지만 최고오브 최고\\n사...  \n",
       "228060  60, 70년대 향취 가득한 음악들과 카페 분위기가 잘 어울리는 카페. 디저트나 카...  \n",
       "228061  제주도 모슬포에 위치한 카페!\\n분위기 너무 좋고 조용한 모슬포에서 즐겼던 디저트 ...  \n",
       "\n",
       "[228062 rows x 4 columns]"
      ]
     },
     "execution_count": 9,
     "metadata": {},
     "output_type": "execute_result"
    }
   ],
   "source": [
    "df"
   ]
  },
  {
   "cell_type": "code",
   "execution_count": 18,
   "metadata": {},
   "outputs": [
    {
     "name": "stderr",
     "output_type": "stream",
     "text": [
      "C:\\Users\\dongi\\anaconda3\\envs\\dacon\\lib\\site-packages\\pandas\\core\\generic.py:5494: SettingWithCopyWarning: \n",
      "A value is trying to be set on a copy of a slice from a DataFrame.\n",
      "Try using .loc[row_indexer,col_indexer] = value instead\n",
      "\n",
      "See the caveats in the documentation: https://pandas.pydata.org/pandas-docs/stable/user_guide/indexing.html#returning-a-view-versus-a-copy\n",
      "  self[name] = value\n"
     ]
    }
   ],
   "source": [
    "df.Rating = df.Rating.astype('int32')"
   ]
  },
  {
   "cell_type": "code",
   "execution_count": 20,
   "metadata": {},
   "outputs": [
    {
     "data": {
      "text/plain": [
       "3    161424\n",
       "2     48134\n",
       "1     18504\n",
       "Name: Rating, dtype: int64"
      ]
     },
     "execution_count": 20,
     "metadata": {},
     "output_type": "execute_result"
    }
   ],
   "source": [
    "df.Rating.value_counts()"
   ]
  },
  {
   "cell_type": "code",
   "execution_count": 11,
   "metadata": {},
   "outputs": [
    {
     "data": {
      "text/plain": [
       "count    228062.000000\n",
       "mean        222.687993\n",
       "std         272.762806\n",
       "min           0.000000\n",
       "25%          62.000000\n",
       "50%         139.000000\n",
       "75%         283.000000\n",
       "max       10000.000000\n",
       "Name: Review, dtype: float64"
      ]
     },
     "execution_count": 11,
     "metadata": {},
     "output_type": "execute_result"
    }
   ],
   "source": [
    "df.Review.str.len().describe()"
   ]
  },
  {
   "cell_type": "code",
   "execution_count": 12,
   "metadata": {},
   "outputs": [
    {
     "data": {
      "text/plain": [
       "11               굿\n",
       "50               .\n",
       "105           맛있다ㅠ\n",
       "144             ㅎㅎ\n",
       "146            테스트\n",
       "            ...   \n",
       "227885      굿~~이네요\n",
       "227887    맛있어요..^^\n",
       "227918    맛있어요~!!!\n",
       "228011    목살 대박입니다\n",
       "228022       맛진짜없음\n",
       "Name: Review, Length: 6088, dtype: object"
      ]
     },
     "execution_count": 12,
     "metadata": {},
     "output_type": "execute_result"
    }
   ],
   "source": [
    "df.Review[df.Review.str.len()<10]"
   ]
  },
  {
   "cell_type": "code",
   "execution_count": 13,
   "metadata": {},
   "outputs": [
    {
     "data": {
      "text/plain": [
       "2         먹으면서도 혼란스러웠고, 리뷰를 쓰는 지금도 혼란스럽다. 어떤 음식점이든 호불호가 ...\n",
       "13        이북 음식의 노포. 예술가들의 사랑방.\\n\\n지금의 자리로 오기 전 호반은 안국역 ...\n",
       "54        한줄평: 한옥에서 맛보는 스칸디나비안 음식. 호불호는 갈린다.\\n\\n스칸디나비안 음...\n",
       "62        〰️총점: (4.0/5), 재방문 의사 soso\\n\\n✔Comment\\n\\n현대 북...\n",
       "64        평일 저녁 방문.\\n서울시립미술관 근처에 있는 북유럽 레스토랑. 내비게이션을 따라가...\n",
       "                                ...                        \n",
       "227029    * 한줄평 : 서귀포에서 고기국수는 단연코 이 식당이 최고!\\n\\n1. 소상공인 식...\n",
       "227587    #제주도 #보목 #어진이네횟집\\n\\n\"경관은 제주인데 음식은 제주스럽지 않았다\"\\n...\n",
       "227844    커피전문점에서 찾은 인생 녹차라떼\\n\\n이름 그대로 여긴 커피 전문점이다. 그러나 ...\n",
       "227906    * 한줄평 : 한라산 아래 첫 마을, 광평리에서 만난 메밀냉면\\n\\n1. 제주의 대...\n",
       "227963    이번 제주 여행에서 가장 자주 식사를 한 더 캔버스. 예전 방문때는 롯데호텔 내 식...\n",
       "Name: Review, Length: 4654, dtype: object"
      ]
     },
     "execution_count": 13,
     "metadata": {},
     "output_type": "execute_result"
    }
   ],
   "source": [
    "df.Review[df.Review.str.len()>1000]"
   ]
  },
  {
   "cell_type": "code",
   "execution_count": null,
   "metadata": {},
   "outputs": [],
   "source": []
  },
  {
   "cell_type": "code",
   "execution_count": 22,
   "metadata": {},
   "outputs": [],
   "source": [
    "df.to_parquet('./mangoplate.parquet')"
   ]
  }
 ],
 "metadata": {
  "kernelspec": {
   "display_name": "dacon",
   "language": "python",
   "name": "dacon"
  },
  "language_info": {
   "codemirror_mode": {
    "name": "ipython",
    "version": 3
   },
   "file_extension": ".py",
   "mimetype": "text/x-python",
   "name": "python",
   "nbconvert_exporter": "python",
   "pygments_lexer": "ipython3",
   "version": "3.8.10"
  }
 },
 "nbformat": 4,
 "nbformat_minor": 4
}
