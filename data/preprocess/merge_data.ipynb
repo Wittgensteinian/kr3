{
 "cells": [
  {
   "cell_type": "code",
   "execution_count": 74,
   "metadata": {},
   "outputs": [],
   "source": [
    "import pandas as pd"
   ]
  },
  {
   "cell_type": "code",
   "execution_count": 75,
   "metadata": {},
   "outputs": [],
   "source": [
    "# read parquets\n",
    "datasets = dict()\n",
    "keys = ['diningcode', 'kakaomap', 'mangoplate', 'poing', 'siksin']\n",
    "\n",
    "for key in keys:\n",
    "    datasets[key] = pd.read_parquet(f'./{key}/{key}.parquet')"
   ]
  },
  {
   "cell_type": "code",
   "execution_count": 76,
   "metadata": {},
   "outputs": [],
   "source": [
    "# merge\n",
    "merged_dataset = pd.DataFrame(columns=['Region', 'Rating', 'Category', 'Review'])\n",
    "for v in datasets.values():\n",
    "    merged_dataset = merged_dataset.append(v, ignore_index=True)\n"
   ]
  },
  {
   "cell_type": "code",
   "execution_count": 77,
   "metadata": {},
   "outputs": [],
   "source": [
    "# drop duplicates\n",
    "df = merged_dataset.drop_duplicates(subset=['Rating','Review'], ignore_index=True)"
   ]
  },
  {
   "cell_type": "code",
   "execution_count": 78,
   "metadata": {},
   "outputs": [
    {
     "name": "stderr",
     "output_type": "stream",
     "text": [
      "<ipython-input-78-d7fecc14ccd8>:2: SettingWithCopyWarning: \n",
      "A value is trying to be set on a copy of a slice from a DataFrame.\n",
      "Try using .loc[row_indexer,col_indexer] = value instead\n",
      "\n",
      "See the caveats in the documentation: https://pandas.pydata.org/pandas-docs/stable/user_guide/indexing.html#returning-a-view-versus-a-copy\n",
      "  df['Rating'] = df['Rating'].astype('int32')\n"
     ]
    }
   ],
   "source": [
    "# cast Rating to int32\n",
    "df['Rating'] = df['Rating'].astype('int32')"
   ]
  },
  {
   "cell_type": "markdown",
   "metadata": {},
   "source": [
    "## Full Dataset"
   ]
  },
  {
   "cell_type": "code",
   "execution_count": 79,
   "metadata": {},
   "outputs": [
    {
     "data": {
      "text/html": [
       "<div>\n",
       "<style scoped>\n",
       "    .dataframe tbody tr th:only-of-type {\n",
       "        vertical-align: middle;\n",
       "    }\n",
       "\n",
       "    .dataframe tbody tr th {\n",
       "        vertical-align: top;\n",
       "    }\n",
       "\n",
       "    .dataframe thead th {\n",
       "        text-align: right;\n",
       "    }\n",
       "</style>\n",
       "<table border=\"1\" class=\"dataframe\">\n",
       "  <thead>\n",
       "    <tr style=\"text-align: right;\">\n",
       "      <th></th>\n",
       "      <th>Region</th>\n",
       "      <th>Rating</th>\n",
       "      <th>Category</th>\n",
       "      <th>Review</th>\n",
       "    </tr>\n",
       "  </thead>\n",
       "  <tbody>\n",
       "    <tr>\n",
       "      <th>0</th>\n",
       "      <td>인덕원</td>\n",
       "      <td>3</td>\n",
       "      <td>삼겹살 고기집</td>\n",
       "      <td>숙성 돼지고기 전문점입니다. 건물 모양 때문에 매장 모양도 좀 특이하지만 쾌적한 편...</td>\n",
       "    </tr>\n",
       "    <tr>\n",
       "      <th>1</th>\n",
       "      <td>인덕원</td>\n",
       "      <td>3</td>\n",
       "      <td>삼겹살 고기집</td>\n",
       "      <td>고기가 정말 맛있었어요! 육즙이 가득있어서 너무 좋았아요\\n일하시는분들 너무 친절하...</td>\n",
       "    </tr>\n",
       "    <tr>\n",
       "      <th>2</th>\n",
       "      <td>인덕원</td>\n",
       "      <td>3</td>\n",
       "      <td>순대국 찹쌀순대</td>\n",
       "      <td>잡내없고 깔끔, 담백한 맛의 순대국이 순대국을 안 좋아하는 사람들에게도 술술 넘어갈...</td>\n",
       "    </tr>\n",
       "    <tr>\n",
       "      <th>3</th>\n",
       "      <td>인덕원</td>\n",
       "      <td>3</td>\n",
       "      <td>순대국 찹쌀순대</td>\n",
       "      <td>고기 양이 푸짐해서 특 순대국밥을 시킨 기분이 듭니다~~ 맛도 좋습니다\\n다만 양념...</td>\n",
       "    </tr>\n",
       "    <tr>\n",
       "      <th>4</th>\n",
       "      <td>인덕원</td>\n",
       "      <td>3</td>\n",
       "      <td>순대국 찹쌀순대</td>\n",
       "      <td>순대국 자체는 제가 먹어본 순대국밥집 중에서 Top5 안에는 들어요.\\n\\n그러나 ...</td>\n",
       "    </tr>\n",
       "    <tr>\n",
       "      <th>...</th>\n",
       "      <td>...</td>\n",
       "      <td>...</td>\n",
       "      <td>...</td>\n",
       "      <td>...</td>\n",
       "    </tr>\n",
       "    <tr>\n",
       "      <th>648045</th>\n",
       "      <td>평택</td>\n",
       "      <td>2</td>\n",
       "      <td>일식/중식/세계음식</td>\n",
       "      <td>요즘, 핫하게,,,떠오르구 있는 중국집. ㅋ, 맥주의 여파루 속이 안좋지만 와봄. ...</td>\n",
       "    </tr>\n",
       "    <tr>\n",
       "      <th>648046</th>\n",
       "      <td>평택</td>\n",
       "      <td>1</td>\n",
       "      <td>한식</td>\n",
       "      <td>원래 글 안쓰는데 이거는 정말 다른분들 위해서 써야할것같네요 방금 포장주문 해서 왔...</td>\n",
       "    </tr>\n",
       "    <tr>\n",
       "      <th>648047</th>\n",
       "      <td>평택</td>\n",
       "      <td>3</td>\n",
       "      <td>한식</td>\n",
       "      <td>우리팀 단골집, 술먹고 다음 날 가면 푸짐하게 배불리 해장 할 수 있는곳, 주말도 ...</td>\n",
       "    </tr>\n",
       "    <tr>\n",
       "      <th>648048</th>\n",
       "      <td>평택</td>\n",
       "      <td>2</td>\n",
       "      <td>카페/디저트</td>\n",
       "      <td>원래는 평택에 있었는데, 연남동에도 최근에 생겨서 방문 했는데..진짜 줄이 어마어마...</td>\n",
       "    </tr>\n",
       "    <tr>\n",
       "      <th>648049</th>\n",
       "      <td>평택</td>\n",
       "      <td>2</td>\n",
       "      <td>한식</td>\n",
       "      <td>친구들의 추천으로 가보게 된 곳. 안성과 평택 몇군데 위주로 체인점이 있는 소규모 ...</td>\n",
       "    </tr>\n",
       "  </tbody>\n",
       "</table>\n",
       "<p>648050 rows × 4 columns</p>\n",
       "</div>"
      ],
      "text/plain": [
       "       Region  Rating    Category  \\\n",
       "0         인덕원       3     삼겹살 고기집   \n",
       "1         인덕원       3     삼겹살 고기집   \n",
       "2         인덕원       3    순대국 찹쌀순대   \n",
       "3         인덕원       3    순대국 찹쌀순대   \n",
       "4         인덕원       3    순대국 찹쌀순대   \n",
       "...       ...     ...         ...   \n",
       "648045     평택       2  일식/중식/세계음식   \n",
       "648046     평택       1          한식   \n",
       "648047     평택       3          한식   \n",
       "648048     평택       2      카페/디저트   \n",
       "648049     평택       2          한식   \n",
       "\n",
       "                                                   Review  \n",
       "0       숙성 돼지고기 전문점입니다. 건물 모양 때문에 매장 모양도 좀 특이하지만 쾌적한 편...  \n",
       "1       고기가 정말 맛있었어요! 육즙이 가득있어서 너무 좋았아요\\n일하시는분들 너무 친절하...  \n",
       "2       잡내없고 깔끔, 담백한 맛의 순대국이 순대국을 안 좋아하는 사람들에게도 술술 넘어갈...  \n",
       "3       고기 양이 푸짐해서 특 순대국밥을 시킨 기분이 듭니다~~ 맛도 좋습니다\\n다만 양념...  \n",
       "4       순대국 자체는 제가 먹어본 순대국밥집 중에서 Top5 안에는 들어요.\\n\\n그러나 ...  \n",
       "...                                                   ...  \n",
       "648045  요즘, 핫하게,,,떠오르구 있는 중국집. ㅋ, 맥주의 여파루 속이 안좋지만 와봄. ...  \n",
       "648046  원래 글 안쓰는데 이거는 정말 다른분들 위해서 써야할것같네요 방금 포장주문 해서 왔...  \n",
       "648047  우리팀 단골집, 술먹고 다음 날 가면 푸짐하게 배불리 해장 할 수 있는곳, 주말도 ...  \n",
       "648048  원래는 평택에 있었는데, 연남동에도 최근에 생겨서 방문 했는데..진짜 줄이 어마어마...  \n",
       "648049  친구들의 추천으로 가보게 된 곳. 안성과 평택 몇군데 위주로 체인점이 있는 소규모 ...  \n",
       "\n",
       "[648050 rows x 4 columns]"
      ]
     },
     "execution_count": 79,
     "metadata": {},
     "output_type": "execute_result"
    }
   ],
   "source": [
    "df"
   ]
  },
  {
   "cell_type": "code",
   "execution_count": 80,
   "metadata": {},
   "outputs": [
    {
     "data": {
      "text/plain": [
       "3    390933\n",
       "2    185585\n",
       "1     71532\n",
       "Name: Rating, dtype: int64"
      ]
     },
     "execution_count": 80,
     "metadata": {},
     "output_type": "execute_result"
    }
   ],
   "source": [
    "df['Rating'].value_counts()"
   ]
  },
  {
   "cell_type": "code",
   "execution_count": 88,
   "metadata": {},
   "outputs": [],
   "source": [
    "df.to_parquet('dataset_full.parquet')"
   ]
  },
  {
   "cell_type": "markdown",
   "metadata": {},
   "source": [
    "## Reduced dataset\n",
    "Only `Rating` and `Review`."
   ]
  },
  {
   "cell_type": "code",
   "execution_count": 84,
   "metadata": {},
   "outputs": [],
   "source": [
    "reduced_df = df.loc[:, ['Rating', 'Review']]"
   ]
  },
  {
   "cell_type": "code",
   "execution_count": 87,
   "metadata": {},
   "outputs": [],
   "source": [
    "reduced_df.to_parquet('dataset_reduced.parquet')"
   ]
  }
 ],
 "metadata": {
  "interpreter": {
   "hash": "ebd61a14e82d6fc953e248589c862f2b0524c4acdcf3a35e4aa9c818bb7b81aa"
  },
  "kernelspec": {
   "display_name": "Python 3.8.10 64-bit ('selenium-env': conda)",
   "name": "python3"
  },
  "language_info": {
   "codemirror_mode": {
    "name": "ipython",
    "version": 3
   },
   "file_extension": ".py",
   "mimetype": "text/x-python",
   "name": "python",
   "nbconvert_exporter": "python",
   "pygments_lexer": "ipython3",
   "version": "3.8.10"
  },
  "orig_nbformat": 4
 },
 "nbformat": 4,
 "nbformat_minor": 2
}
