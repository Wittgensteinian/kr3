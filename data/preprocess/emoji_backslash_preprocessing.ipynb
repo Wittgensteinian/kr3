{
 "cells": [
  {
   "cell_type": "markdown",
   "metadata": {},
   "source": [
    "# Remove \"Emoji, \\n\""
   ]
  },
  {
   "cell_type": "code",
   "execution_count": 21,
   "metadata": {},
   "outputs": [],
   "source": [
    "import os, sys\n",
    "import pandas as pd\n",
    "import re\n",
    "pd.options.display.max_rows = 30"
   ]
  },
  {
   "cell_type": "code",
   "execution_count": 22,
   "metadata": {},
   "outputs": [],
   "source": [
    "root = \"./dataset_reduced.parquet\"\n",
    "dataset = pd.read_parquet(root)\n"
   ]
  },
  {
   "cell_type": "code",
   "execution_count": 23,
   "metadata": {},
   "outputs": [
    {
     "data": {
      "text/html": [
       "<div>\n",
       "<style scoped>\n",
       "    .dataframe tbody tr th:only-of-type {\n",
       "        vertical-align: middle;\n",
       "    }\n",
       "\n",
       "    .dataframe tbody tr th {\n",
       "        vertical-align: top;\n",
       "    }\n",
       "\n",
       "    .dataframe thead th {\n",
       "        text-align: right;\n",
       "    }\n",
       "</style>\n",
       "<table border=\"1\" class=\"dataframe\">\n",
       "  <thead>\n",
       "    <tr style=\"text-align: right;\">\n",
       "      <th></th>\n",
       "      <th>Rating</th>\n",
       "      <th>Review</th>\n",
       "    </tr>\n",
       "  </thead>\n",
       "  <tbody>\n",
       "    <tr>\n",
       "      <th>0</th>\n",
       "      <td>3</td>\n",
       "      <td>숙성 돼지고기 전문점입니다. 건물 모양 때문에 매장 모양도 좀 특이하지만 쾌적한 편...</td>\n",
       "    </tr>\n",
       "    <tr>\n",
       "      <th>1</th>\n",
       "      <td>3</td>\n",
       "      <td>고기가 정말 맛있었어요! 육즙이 가득있어서 너무 좋았아요\\n일하시는분들 너무 친절하...</td>\n",
       "    </tr>\n",
       "    <tr>\n",
       "      <th>2</th>\n",
       "      <td>3</td>\n",
       "      <td>잡내없고 깔끔, 담백한 맛의 순대국이 순대국을 안 좋아하는 사람들에게도 술술 넘어갈...</td>\n",
       "    </tr>\n",
       "    <tr>\n",
       "      <th>3</th>\n",
       "      <td>3</td>\n",
       "      <td>고기 양이 푸짐해서 특 순대국밥을 시킨 기분이 듭니다~~ 맛도 좋습니다\\n다만 양념...</td>\n",
       "    </tr>\n",
       "    <tr>\n",
       "      <th>4</th>\n",
       "      <td>3</td>\n",
       "      <td>순대국 자체는 제가 먹어본 순대국밥집 중에서 Top5 안에는 들어요.\\n\\n그러나 ...</td>\n",
       "    </tr>\n",
       "    <tr>\n",
       "      <th>...</th>\n",
       "      <td>...</td>\n",
       "      <td>...</td>\n",
       "    </tr>\n",
       "    <tr>\n",
       "      <th>642841</th>\n",
       "      <td>2</td>\n",
       "      <td>요즘, 핫하게,,,떠오르구 있는 중국집. ㅋ, 맥주의 여파루 속이 안좋지만 와봄. ...</td>\n",
       "    </tr>\n",
       "    <tr>\n",
       "      <th>642842</th>\n",
       "      <td>1</td>\n",
       "      <td>원래 글 안쓰는데 이거는 정말 다른분들 위해서 써야할것같네요 방금 포장주문 해서 왔...</td>\n",
       "    </tr>\n",
       "    <tr>\n",
       "      <th>642843</th>\n",
       "      <td>3</td>\n",
       "      <td>우리팀 단골집, 술먹고 다음 날 가면 푸짐하게 배불리 해장 할 수 있는곳, 주말도 ...</td>\n",
       "    </tr>\n",
       "    <tr>\n",
       "      <th>642844</th>\n",
       "      <td>2</td>\n",
       "      <td>원래는 평택에 있었는데, 연남동에도 최근에 생겨서 방문 했는데..진짜 줄이 어마어마...</td>\n",
       "    </tr>\n",
       "    <tr>\n",
       "      <th>642845</th>\n",
       "      <td>2</td>\n",
       "      <td>친구들의 추천으로 가보게 된 곳. 안성과 평택 몇군데 위주로 체인점이 있는 소규모 ...</td>\n",
       "    </tr>\n",
       "  </tbody>\n",
       "</table>\n",
       "<p>642846 rows × 2 columns</p>\n",
       "</div>"
      ],
      "text/plain": [
       "        Rating                                             Review\n",
       "0            3  숙성 돼지고기 전문점입니다. 건물 모양 때문에 매장 모양도 좀 특이하지만 쾌적한 편...\n",
       "1            3  고기가 정말 맛있었어요! 육즙이 가득있어서 너무 좋았아요\\n일하시는분들 너무 친절하...\n",
       "2            3  잡내없고 깔끔, 담백한 맛의 순대국이 순대국을 안 좋아하는 사람들에게도 술술 넘어갈...\n",
       "3            3  고기 양이 푸짐해서 특 순대국밥을 시킨 기분이 듭니다~~ 맛도 좋습니다\\n다만 양념...\n",
       "4            3  순대국 자체는 제가 먹어본 순대국밥집 중에서 Top5 안에는 들어요.\\n\\n그러나 ...\n",
       "...        ...                                                ...\n",
       "642841       2  요즘, 핫하게,,,떠오르구 있는 중국집. ㅋ, 맥주의 여파루 속이 안좋지만 와봄. ...\n",
       "642842       1  원래 글 안쓰는데 이거는 정말 다른분들 위해서 써야할것같네요 방금 포장주문 해서 왔...\n",
       "642843       3  우리팀 단골집, 술먹고 다음 날 가면 푸짐하게 배불리 해장 할 수 있는곳, 주말도 ...\n",
       "642844       2  원래는 평택에 있었는데, 연남동에도 최근에 생겨서 방문 했는데..진짜 줄이 어마어마...\n",
       "642845       2  친구들의 추천으로 가보게 된 곳. 안성과 평택 몇군데 위주로 체인점이 있는 소규모 ...\n",
       "\n",
       "[642846 rows x 2 columns]"
      ]
     },
     "execution_count": 23,
     "metadata": {},
     "output_type": "execute_result"
    }
   ],
   "source": [
    "dataset"
   ]
  },
  {
   "cell_type": "markdown",
   "metadata": {},
   "source": [
    "# Emoji"
   ]
  },
  {
   "cell_type": "markdown",
   "metadata": {},
   "source": [
    "### Emoji Analysis"
   ]
  },
  {
   "cell_type": "code",
   "execution_count": 24,
   "metadata": {},
   "outputs": [],
   "source": [
    "# remove Emoji\n",
    "# code from https://studyprogram.tistory.com/1\n",
    "only_BMP_pattern = re.compile(\"[\"\n",
    "        u\"\\U00010000-\\U0010FFFF\"        # BMP characters 이외\n",
    "                           \"]+\", flags=re.UNICODE)\n",
    "def remove_emoji(text):\n",
    "        return only_BMP_pattern.sub(r'', text)\n"
   ]
  },
  {
   "cell_type": "code",
   "execution_count": 25,
   "metadata": {},
   "outputs": [
    {
     "name": "stdout",
     "output_type": "stream",
     "text": [
      "Length of w/ Emoji: 3566\n",
      "54        #송파이자카야 #냠냠물고기\\n.\\n경찰병원...\n",
      "75        분위기 좋고 질 좋은 연어를 합리적인 가격으로 먹을 수 있음. 데이트용으로 정말 좋...\n",
      "100       가락시장 맨 윗층에 있는 시끌벅적한 소정식당입니다. 회센타1층에도 북적북적했는데 여...\n",
      "144       냉삼세트 시켰는데 양도 완전 푸짐하고 가성비 갑이에요!!\\n국내산 생고기를 급냉한거...\n",
      "146                        냉동삼겹살 한상세트 가성비갑!! 완전 배부르고 맛있어요 👍\n",
      "                                ...                        \n",
      "640749    충북대 중문에 위치한 스케치카페! 젊은 사장님이 운영하시는 카페입니다😀 크림이 올라...\n",
      "640770    화덕피자와 즉석떡볶이를 함께 드실 수 있는 집입니다.😀 보통 이런 곳은 냉동 피자로...\n",
      "640784    #복덕방 #한우육회 #메밀전병 벼르고 벼르다 겨우 세이프한 복덕방 웨이팅하고 들어가...\n",
      "640839    춘천에 이런 곳이 생기다니.. 깔끔한 맛에 술이 술술 넘어가고😂😂 특히 꽈뜨로피자도...\n",
      "642199    통영에 위치한 ‘서피랑 떡복기집’ 할머니께서 운영하시는 떡볶이집. 꼬꼬마 때 학교 ...\n",
      "Name: Review, Length: 3566, dtype: object\n"
     ]
    }
   ],
   "source": [
    "review_emoji = list()\n",
    "idx_list_emoji = list()\n",
    "\n",
    "for idx, review in enumerate(dataset[\"Review\"]):\n",
    "    is_emoji = only_BMP_pattern.search(review)\n",
    "    if is_emoji:\n",
    "        review_emoji.append(review)\n",
    "        idx_list_emoji.append(idx)\n",
    "        \n",
    "        \n",
    "print(\"Length of w/ Emoji: {}\".format(len(review_emoji)))\n",
    "print(dataset.iloc[idx_list_emoji, 1])"
   ]
  },
  {
   "cell_type": "markdown",
   "metadata": {},
   "source": [
    "### Emoji Elimination"
   ]
  },
  {
   "cell_type": "code",
   "execution_count": 26,
   "metadata": {},
   "outputs": [
    {
     "name": "stdout",
     "output_type": "stream",
     "text": [
      "54        #송파이자카야 #냠냠물고기\\n.\\n경찰병원...\n",
      "75        분위기 좋고 질 좋은 연어를 합리적인 가격으로 먹을 수 있음. 데이트용으로 정말 좋...\n",
      "100       가락시장 맨 윗층에 있는 시끌벅적한 소정식당입니다. 회센타1층에도 북적북적했는데 여...\n",
      "144       냉삼세트 시켰는데 양도 완전 푸짐하고 가성비 갑이에요!!\\n국내산 생고기를 급냉한거...\n",
      "146                         냉동삼겹살 한상세트 가성비갑!! 완전 배부르고 맛있어요 \n",
      "                                ...                        \n",
      "640749    충북대 중문에 위치한 스케치카페! 젊은 사장님이 운영하시는 카페입니다 크림이 올라간...\n",
      "640770    화덕피자와 즉석떡볶이를 함께 드실 수 있는 집입니다. 보통 이런 곳은 냉동 피자로 ...\n",
      "640784    #복덕방 #한우육회 #메밀전병 벼르고 벼르다 겨우 세이프한 복덕방 웨이팅하고 들어가...\n",
      "640839    춘천에 이런 곳이 생기다니.. 깔끔한 맛에 술이 술술 넘어가고 특히 꽈뜨로피자도 맛...\n",
      "642199    통영에 위치한 ‘서피랑 떡복기집’ 할머니께서 운영하시는 떡볶이집. 꼬꼬마 때 학교 ...\n",
      "Name: Review, Length: 3566, dtype: object\n"
     ]
    }
   ],
   "source": [
    "# replace emoji with blank\n",
    "def remove_emoji(text):\n",
    "        return only_BMP_pattern.sub(r'', text)\n",
    "\n",
    "dataset_no_emoji = dataset\n",
    "dataset_no_emoji[\"Review\"] = dataset_no_emoji.Review.apply(remove_emoji)\n",
    "print(dataset_no_emoji.iloc[idx_list_emoji, 1])"
   ]
  },
  {
   "cell_type": "markdown",
   "metadata": {},
   "source": [
    "# Back Slash"
   ]
  },
  {
   "cell_type": "markdown",
   "metadata": {},
   "source": [
    "### Back Slash Analysis"
   ]
  },
  {
   "cell_type": "code",
   "execution_count": 27,
   "metadata": {},
   "outputs": [
    {
     "name": "stdout",
     "output_type": "stream",
     "text": [
      "Length of w/ backslash: 185237\n",
      "1         고기가 정말 맛있었어요! 육즙이 가득있어서 너무 좋았아요\\n일하시는분들 너무 친절하...\n",
      "3         고기 양이 푸짐해서 특 순대국밥을 시킨 기분이 듭니다~~ 맛도 좋습니다\\n다만 양념...\n",
      "4         순대국 자체는 제가 먹어본 순대국밥집 중에서 Top5 안에는 들어요.\\n\\n그러나 ...\n",
      "5         괜찮아요.\\n가격대비 양 많고...\\n무난한 식당이었네요.\\n순대국은 푸짐한 느낌이...\n",
      "15                          유명세에 비해 순대맛은 그저그런\\n순대속이 그냥 당면이다\n",
      "                                ...                        \n",
      "494793    올레7돈 이 맛죠?\\n심장 약하신분 우황청심환 들고가셔야해요.\\n고기한점에 정신이 ...\n",
      "494794    제주도 올레길 7코스종점에 진짜 흑돼지맛집이 있네요.\\n고기.반찬 모두 맛있구요.\\...\n",
      "494796    애플파이와 하겐다즈 바닐라아이스크림\\n8500 원 넘나 비싸지만 최고오브 최고\\n사...\n",
      "494797    60, 70년대 향취 가득한 음악들과 카페 분위기가 잘 어울리는 카페. 디저트나 카...\n",
      "494798    제주도 모슬포에 위치한 카페!\\n분위기 너무 좋고 조용한 모슬포에서 즐겼던 디저트 ...\n",
      "Name: Review, Length: 185237, dtype: object\n"
     ]
    }
   ],
   "source": [
    "review_backslash = list()\n",
    "idx_list_backslash = list()\n",
    "\n",
    "for idx, review in enumerate(dataset_no_emoji[\"Review\"]):\n",
    "    if \"\\n\" in review:  \n",
    "        review_backslash.append(review)\n",
    "        idx_list_backslash.append(idx)\n",
    "        \n",
    "        \n",
    "print(\"Length of w/ backslash: {}\".format(len(review_backslash)))\n",
    "print(dataset_no_emoji.iloc[idx_list_backslash, 1])"
   ]
  },
  {
   "cell_type": "markdown",
   "metadata": {},
   "source": [
    "### Back Slash Elimination"
   ]
  },
  {
   "cell_type": "code",
   "execution_count": 29,
   "metadata": {},
   "outputs": [],
   "source": [
    "# replace backslash with 1 space blank\n",
    "\n",
    "def remove_double_backslash(text):\n",
    "        return text.replace(\"\\n\\n\", \" \")\n",
    "\n",
    "def remove_single_backslash(text):\n",
    "        return text.replace(\"\\n\", \" \")"
   ]
  },
  {
   "cell_type": "code",
   "execution_count": 30,
   "metadata": {},
   "outputs": [
    {
     "name": "stdout",
     "output_type": "stream",
     "text": [
      "1         고기가 정말 맛있었어요! 육즙이 가득있어서 너무 좋았아요 일하시는분들 너무 친절하고...\n",
      "3         고기 양이 푸짐해서 특 순대국밥을 시킨 기분이 듭니다~~ 맛도 좋습니다 다만 양념장...\n",
      "4         순대국 자체는 제가 먹어본 순대국밥집 중에서 Top5 안에는 들어요. 그러나 밥 양...\n",
      "5         괜찮아요. 가격대비 양 많고... 무난한 식당이었네요. 순대국은 푸짐한 느낌이고 개...\n",
      "15                           유명세에 비해 순대맛은 그저그런 순대속이 그냥 당면이다\n",
      "                                ...                        \n",
      "494793    올레7돈 이 맛죠? 심장 약하신분 우황청심환 들고가셔야해요. 고기한점에 정신이 혼미...\n",
      "494794    제주도 올레길 7코스종점에 진짜 흑돼지맛집이 있네요. 고기.반찬 모두 맛있구요. 친...\n",
      "494796    애플파이와 하겐다즈 바닐라아이스크림 8500 원 넘나 비싸지만 최고오브 최고 사장님...\n",
      "494797    60, 70년대 향취 가득한 음악들과 카페 분위기가 잘 어울리는 카페. 디저트나 카...\n",
      "494798    제주도 모슬포에 위치한 카페! 분위기 너무 좋고 조용한 모슬포에서 즐겼던 디저트 ㅎ...\n",
      "Name: Review, Length: 185237, dtype: object\n"
     ]
    }
   ],
   "source": [
    "dataset_no_emoji_no_backslash = dataset_no_emoji\n",
    "dataset_no_emoji_no_backslash[\"Review\"] = dataset_no_emoji_no_backslash.Review.apply(remove_double_backslash)\n",
    "dataset_no_emoji_no_backslash[\"Review\"] = dataset_no_emoji_no_backslash.Review.apply(remove_single_backslash)\n",
    "print(dataset_no_emoji_no_backslash.iloc[idx_list_backslash, 1])"
   ]
  },
  {
   "cell_type": "markdown",
   "metadata": {},
   "source": [
    "# Special Letter "
   ]
  },
  {
   "cell_type": "markdown",
   "metadata": {},
   "source": [
    "### Special Letter Analysis"
   ]
  },
  {
   "cell_type": "code",
   "execution_count": 31,
   "metadata": {},
   "outputs": [
    {
     "name": "stdout",
     "output_type": "stream",
     "text": [
      "Length of w/ Special Letter: 195547\n",
      "2         잡내없고 깔끔, 담백한 맛의 순대국이 순대국을 안 좋아하는 사람들에게도 술술 넘어갈...\n",
      "3         고기 양이 푸짐해서 특 순대국밥을 시킨 기분이 듭니다~~ 맛도 좋습니다 다만 양념장...\n",
      "18        송파에서 특히 가락시장 인근 유명한 집이라 저녁식사시간에 대기인원이 많았다. 주차는...\n",
      "19        맑은 돼지국물. 사실 국물은 밍밍하지만 다대기를 풀어먹으면 약간의 조미료냄새와 시원...\n",
      "20        오래되고 유명하다고 해서 가봤는데, 순대국 맛은 보통이었어요. 직원분들이 많고 친절...\n",
      "                                ...                        \n",
      "642838    송탄 미군부대 근처에 위치한 곳 원래 로컬맛집으로 되게 유명했는데 삼대천왕에 나온 ...\n",
      "642839    집에서 40키로 정도 떨어져 있는 곳인데도 몇달에 한번은 이거 먹으러 일부러 갑니다...\n",
      "642841    요즘, 핫하게,,,떠오르구 있는 중국집. ㅋ, 맥주의 여파루 속이 안좋지만 와봄. ...\n",
      "642844    원래는 평택에 있었는데, 연남동에도 최근에 생겨서 방문 했는데..진짜 줄이 어마어마...\n",
      "642845    친구들의 추천으로 가보게 된 곳. 안성과 평택 몇군데 위주로 체인점이 있는 소규모 ...\n",
      "Name: Review, Length: 195547, dtype: object\n"
     ]
    }
   ],
   "source": [
    "# replace special letter with blank\n",
    "special_letter = re.compile('[-=+#/\\:^$@*\\\"※~&%ㆍ』\\\\‘|\\(\\)\\[\\]\\<\\>`\\'…》]')    # no elimination \".,!?\"\n",
    "freq_used_mark = re.compile('[.?!,]')\n",
    "review_special_letter = list()\n",
    "idx_list_special_letter = list()\n",
    "\n",
    "for idx, review in enumerate(dataset[\"Review\"]):\n",
    "    is_special_letter = special_letter.search(review)\n",
    "    if is_special_letter:\n",
    "        review_special_letter.append(review)\n",
    "        idx_list_special_letter.append(idx)\n",
    "        \n",
    "        \n",
    "print(\"Length of w/ Special Letter: {}\".format(len(review_special_letter)))\n",
    "print(dataset_no_emoji_no_backslash.iloc[idx_list_special_letter, 1])"
   ]
  },
  {
   "cell_type": "markdown",
   "metadata": {},
   "source": [
    "### Special Letter Elimination"
   ]
  },
  {
   "cell_type": "code",
   "execution_count": 33,
   "metadata": {},
   "outputs": [],
   "source": [
    "def remove_special_letter(text):\n",
    "        return special_letter.sub(r'', text)"
   ]
  },
  {
   "cell_type": "code",
   "execution_count": 34,
   "metadata": {},
   "outputs": [
    {
     "name": "stdout",
     "output_type": "stream",
     "text": [
      "2         잡내없고 깔끔, 담백한 맛의 순대국이 순대국을 안 좋아하는 사람들에게도 술술 넘어갈...\n",
      "3         고기 양이 푸짐해서 특 순대국밥을 시킨 기분이 듭니다 맛도 좋습니다 다만 양념장이 ...\n",
      "18        송파에서 특히 가락시장 인근 유명한 집이라 저녁식사시간에 대기인원이 많았다. 주차는...\n",
      "19        맑은 돼지국물. 사실 국물은 밍밍하지만 다대기를 풀어먹으면 약간의 조미료냄새와 시원...\n",
      "20        오래되고 유명하다고 해서 가봤는데, 순대국 맛은 보통이었어요. 직원분들이 많고 친절...\n",
      "                                ...                        \n",
      "642838    송탄 미군부대 근처에 위치한 곳 원래 로컬맛집으로 되게 유명했는데 삼대천왕에 나온 ...\n",
      "642839    집에서 40키로 정도 떨어져 있는 곳인데도 몇달에 한번은 이거 먹으러 일부러 갑니다...\n",
      "642841    요즘, 핫하게,,,떠오르구 있는 중국집. ㅋ, 맥주의 여파루 속이 안좋지만 와봄. ...\n",
      "642844    원래는 평택에 있었는데, 연남동에도 최근에 생겨서 방문 했는데..진짜 줄이 어마어마...\n",
      "642845    친구들의 추천으로 가보게 된 곳. 안성과 평택 몇군데 위주로 체인점이 있는 소규모 ...\n",
      "Name: Review, Length: 195547, dtype: object\n"
     ]
    }
   ],
   "source": [
    "dataset_final = dataset_no_emoji_no_backslash\n",
    "dataset_final[\"Review\"] = dataset_final.Review.apply(remove_special_letter)\n",
    "print(dataset_final.iloc[idx_list_special_letter, 1])"
   ]
  },
  {
   "cell_type": "code",
   "execution_count": 35,
   "metadata": {},
   "outputs": [],
   "source": [
    "# save preprocessed dataset\n",
    "dataset_final.to_parquet(\"data_preprocessed.parquet\")"
   ]
  },
  {
   "cell_type": "markdown",
   "metadata": {},
   "source": []
  }
 ],
 "metadata": {
  "interpreter": {
   "hash": "03e30155a8bc2aebd4337705006146e77759413953328d6ea8a447f30ad5fd64"
  },
  "kernelspec": {
   "display_name": "Python 3.7.6 64-bit ('base': conda)",
   "name": "python3"
  },
  "language_info": {
   "codemirror_mode": {
    "name": "ipython",
    "version": 3
   },
   "file_extension": ".py",
   "mimetype": "text/x-python",
   "name": "python",
   "nbconvert_exporter": "python",
   "pygments_lexer": "ipython3",
   "version": "3.7.6"
  },
  "orig_nbformat": 4
 },
 "nbformat": 4,
 "nbformat_minor": 2
}
