{
 "cells": [
  {
   "cell_type": "markdown",
   "metadata": {},
   "source": [
    "## Notebook for the release of KR3\n",
    "No preprocesssing is done here.\n",
    "\n",
    "3 files to be released\n",
    "- kr3_raw  \n",
    ": before preprocessing, also contains other columns than 'Review' and 'Rating'.\n",
    "- kr3\n",
    ": preprocessed, only contains columns of 'Review' and 'Rating'.\n",
    "\n",
    "Label('Rating')\n",
    "- 0 - Negative\n",
    "- 1 - Positive\n",
    "- 2 - Ambiguous (hence 'unlabled')"
   ]
  },
  {
   "cell_type": "code",
   "execution_count": 2,
   "metadata": {},
   "outputs": [],
   "source": [
    "import pandas as pd"
   ]
  },
  {
   "cell_type": "code",
   "execution_count": 11,
   "metadata": {},
   "outputs": [],
   "source": [
    "# load datasets\n",
    "dataset_grammar = pd.read_parquet('dataset_grammar.parquet')\n",
    "dataset_full = pd.read_parquet('dataset_full.parquet')"
   ]
  },
  {
   "cell_type": "code",
   "execution_count": 13,
   "metadata": {},
   "outputs": [],
   "source": [
    "# modify 'Rating' to a new label system\n",
    "# they are already modified in 'dataset_grammar'\n",
    "dataset_full['Rating'].replace({1:0, 3:1}, inplace=True)\n"
   ]
  },
  {
   "cell_type": "code",
   "execution_count": 24,
   "metadata": {},
   "outputs": [],
   "source": [
    "# save in the most outer directory\n",
    "dataset_full.to_parquet('../../kr3_raw.parquet')\n",
    "dataset_full.to_csv('../../kr3_raw.csv', index=False)\n",
    "dataset_grammar.to_parquet('../../kr3.parquet')\n",
    "dataset_grammar.to_csv('../../kr3.csv', index=False)\n"
   ]
  },
  {
   "cell_type": "code",
   "execution_count": 26,
   "metadata": {},
   "outputs": [
    {
     "data": {
      "text/html": [
       "<div>\n",
       "<style scoped>\n",
       "    .dataframe tbody tr th:only-of-type {\n",
       "        vertical-align: middle;\n",
       "    }\n",
       "\n",
       "    .dataframe tbody tr th {\n",
       "        vertical-align: top;\n",
       "    }\n",
       "\n",
       "    .dataframe thead th {\n",
       "        text-align: right;\n",
       "    }\n",
       "</style>\n",
       "<table border=\"1\" class=\"dataframe\">\n",
       "  <thead>\n",
       "    <tr style=\"text-align: right;\">\n",
       "      <th></th>\n",
       "      <th>Region</th>\n",
       "      <th>Rating</th>\n",
       "      <th>Category</th>\n",
       "      <th>Review</th>\n",
       "    </tr>\n",
       "  </thead>\n",
       "  <tbody>\n",
       "    <tr>\n",
       "      <th>0</th>\n",
       "      <td>인덕원</td>\n",
       "      <td>1</td>\n",
       "      <td>삼겹살 고기집</td>\n",
       "      <td>숙성 돼지고기 전문점입니다. 건물 모양 때문에 매장 모양도 좀 특이하지만 쾌적한 편...</td>\n",
       "    </tr>\n",
       "    <tr>\n",
       "      <th>1</th>\n",
       "      <td>인덕원</td>\n",
       "      <td>1</td>\n",
       "      <td>삼겹살 고기집</td>\n",
       "      <td>고기가 정말 맛있었어요! 육즙이 가득있어서 너무 좋았아요\\n일하시는분들 너무 친절하...</td>\n",
       "    </tr>\n",
       "    <tr>\n",
       "      <th>2</th>\n",
       "      <td>인덕원</td>\n",
       "      <td>1</td>\n",
       "      <td>순대국 찹쌀순대</td>\n",
       "      <td>잡내없고 깔끔, 담백한 맛의 순대국이 순대국을 안 좋아하는 사람들에게도 술술 넘어갈...</td>\n",
       "    </tr>\n",
       "    <tr>\n",
       "      <th>3</th>\n",
       "      <td>인덕원</td>\n",
       "      <td>1</td>\n",
       "      <td>순대국 찹쌀순대</td>\n",
       "      <td>고기 양이 푸짐해서 특 순대국밥을 시킨 기분이 듭니다~~ 맛도 좋습니다\\n다만 양념...</td>\n",
       "    </tr>\n",
       "    <tr>\n",
       "      <th>4</th>\n",
       "      <td>인덕원</td>\n",
       "      <td>1</td>\n",
       "      <td>순대국 찹쌀순대</td>\n",
       "      <td>순대국 자체는 제가 먹어본 순대국밥집 중에서 Top5 안에는 들어요.\\n\\n그러나 ...</td>\n",
       "    </tr>\n",
       "    <tr>\n",
       "      <th>...</th>\n",
       "      <td>...</td>\n",
       "      <td>...</td>\n",
       "      <td>...</td>\n",
       "      <td>...</td>\n",
       "    </tr>\n",
       "    <tr>\n",
       "      <th>642841</th>\n",
       "      <td>평택</td>\n",
       "      <td>2</td>\n",
       "      <td>일식/중식/세계음식</td>\n",
       "      <td>요즘, 핫하게,,,떠오르구 있는 중국집. ㅋ, 맥주의 여파루 속이 안좋지만 와봄. ...</td>\n",
       "    </tr>\n",
       "    <tr>\n",
       "      <th>642842</th>\n",
       "      <td>평택</td>\n",
       "      <td>0</td>\n",
       "      <td>한식</td>\n",
       "      <td>원래 글 안쓰는데 이거는 정말 다른분들 위해서 써야할것같네요 방금 포장주문 해서 왔...</td>\n",
       "    </tr>\n",
       "    <tr>\n",
       "      <th>642843</th>\n",
       "      <td>평택</td>\n",
       "      <td>1</td>\n",
       "      <td>한식</td>\n",
       "      <td>우리팀 단골집, 술먹고 다음 날 가면 푸짐하게 배불리 해장 할 수 있는곳, 주말도 ...</td>\n",
       "    </tr>\n",
       "    <tr>\n",
       "      <th>642844</th>\n",
       "      <td>평택</td>\n",
       "      <td>2</td>\n",
       "      <td>카페/디저트</td>\n",
       "      <td>원래는 평택에 있었는데, 연남동에도 최근에 생겨서 방문 했는데..진짜 줄이 어마어마...</td>\n",
       "    </tr>\n",
       "    <tr>\n",
       "      <th>642845</th>\n",
       "      <td>평택</td>\n",
       "      <td>2</td>\n",
       "      <td>한식</td>\n",
       "      <td>친구들의 추천으로 가보게 된 곳. 안성과 평택 몇군데 위주로 체인점이 있는 소규모 ...</td>\n",
       "    </tr>\n",
       "  </tbody>\n",
       "</table>\n",
       "<p>642846 rows × 4 columns</p>\n",
       "</div>"
      ],
      "text/plain": [
       "       Region  Rating    Category  \\\n",
       "0         인덕원       1     삼겹살 고기집   \n",
       "1         인덕원       1     삼겹살 고기집   \n",
       "2         인덕원       1    순대국 찹쌀순대   \n",
       "3         인덕원       1    순대국 찹쌀순대   \n",
       "4         인덕원       1    순대국 찹쌀순대   \n",
       "...       ...     ...         ...   \n",
       "642841     평택       2  일식/중식/세계음식   \n",
       "642842     평택       0          한식   \n",
       "642843     평택       1          한식   \n",
       "642844     평택       2      카페/디저트   \n",
       "642845     평택       2          한식   \n",
       "\n",
       "                                                   Review  \n",
       "0       숙성 돼지고기 전문점입니다. 건물 모양 때문에 매장 모양도 좀 특이하지만 쾌적한 편...  \n",
       "1       고기가 정말 맛있었어요! 육즙이 가득있어서 너무 좋았아요\\n일하시는분들 너무 친절하...  \n",
       "2       잡내없고 깔끔, 담백한 맛의 순대국이 순대국을 안 좋아하는 사람들에게도 술술 넘어갈...  \n",
       "3       고기 양이 푸짐해서 특 순대국밥을 시킨 기분이 듭니다~~ 맛도 좋습니다\\n다만 양념...  \n",
       "4       순대국 자체는 제가 먹어본 순대국밥집 중에서 Top5 안에는 들어요.\\n\\n그러나 ...  \n",
       "...                                                   ...  \n",
       "642841  요즘, 핫하게,,,떠오르구 있는 중국집. ㅋ, 맥주의 여파루 속이 안좋지만 와봄. ...  \n",
       "642842  원래 글 안쓰는데 이거는 정말 다른분들 위해서 써야할것같네요 방금 포장주문 해서 왔...  \n",
       "642843  우리팀 단골집, 술먹고 다음 날 가면 푸짐하게 배불리 해장 할 수 있는곳, 주말도 ...  \n",
       "642844  원래는 평택에 있었는데, 연남동에도 최근에 생겨서 방문 했는데..진짜 줄이 어마어마...  \n",
       "642845  친구들의 추천으로 가보게 된 곳. 안성과 평택 몇군데 위주로 체인점이 있는 소규모 ...  \n",
       "\n",
       "[642846 rows x 4 columns]"
      ]
     },
     "execution_count": 26,
     "metadata": {},
     "output_type": "execute_result"
    }
   ],
   "source": [
    "# check the saved files\n",
    "file_name = 'kr3_raw.csv'\n",
    "pd.read_csv(f'../{file_name}')"
   ]
  }
 ],
 "metadata": {
  "interpreter": {
   "hash": "0e5972074dde80582240c51114485ac6473e45f9aa96fe85ad2e4b8229b72da3"
  },
  "kernelspec": {
   "display_name": "Python 3.9.5 64-bit (conda)",
   "language": "python",
   "name": "python3"
  },
  "language_info": {
   "codemirror_mode": {
    "name": "ipython",
    "version": 3
   },
   "file_extension": ".py",
   "mimetype": "text/x-python",
   "name": "python",
   "nbconvert_exporter": "python",
   "pygments_lexer": "ipython3",
   "version": "3.9.5"
  },
  "orig_nbformat": 4
 },
 "nbformat": 4,
 "nbformat_minor": 2
}
