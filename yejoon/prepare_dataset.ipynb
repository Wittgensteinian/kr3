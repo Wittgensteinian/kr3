{
 "cells": [
  {
   "cell_type": "markdown",
   "metadata": {},
   "source": [
    "## Prepare dataset using `datasets`"
   ]
  },
  {
   "cell_type": "code",
   "execution_count": 9,
   "metadata": {},
   "outputs": [],
   "source": [
    "from datasets import load_dataset, Dataset\n",
    "import pandas as pd"
   ]
  },
  {
   "cell_type": "code",
   "execution_count": 10,
   "metadata": {},
   "outputs": [],
   "source": [
    "# load dataset and drop label 2\n",
    "data_address = \"/home/yejoon/attention/kr3.parquet\"\n",
    "data = pd.read_parquet(data_address)\n",
    "data = data.loc[data['Rating'] != 2]\n",
    "data.reset_index(inplace=True, drop=True)\n",
    "\n",
    "# convert to hgf Dataset\n",
    "raw_dataset = Dataset.from_pandas(data)"
   ]
  },
  {
   "cell_type": "code",
   "execution_count": 11,
   "metadata": {},
   "outputs": [
    {
     "data": {
      "text/plain": [
       "Dataset({\n",
       "    features: ['Rating', 'Review'],\n",
       "    num_rows: 459207\n",
       "})"
      ]
     },
     "execution_count": 11,
     "metadata": {},
     "output_type": "execute_result"
    }
   ],
   "source": [
    "raw_dataset"
   ]
  },
  {
   "cell_type": "code",
   "execution_count": 13,
   "metadata": {},
   "outputs": [
    {
     "data": {
      "text/plain": [
       "DatasetDict({\n",
       "    train: Dataset({\n",
       "        features: ['Rating', 'Review'],\n",
       "        num_rows: 367365\n",
       "    })\n",
       "    test: Dataset({\n",
       "        features: ['Rating', 'Review'],\n",
       "        num_rows: 91842\n",
       "    })\n",
       "})"
      ]
     },
     "execution_count": 13,
     "metadata": {},
     "output_type": "execute_result"
    }
   ],
   "source": [
    "# train test split\n",
    "dataset = raw_dataset.train_test_split(test_size=0.2, shuffle=True, seed=217)\n",
    "dataset\n"
   ]
  },
  {
   "cell_type": "code",
   "execution_count": 14,
   "metadata": {},
   "outputs": [],
   "source": [
    "from transformers import BertTokenizer\n",
    "checkpoint = 'bert-base-multilingual-cased'\n",
    "tokenizer = BertTokenizer.from_pretrained(checkpoint)"
   ]
  },
  {
   "cell_type": "code",
   "execution_count": 10,
   "metadata": {},
   "outputs": [
    {
     "data": {
      "application/vnd.jupyter.widget-view+json": {
       "model_id": "9dea86b1d3c44041a2eb8b434404e1b2",
       "version_major": 2,
       "version_minor": 0
      },
      "text/plain": [
       "  0%|          | 0/368 [00:00<?, ?ba/s]"
      ]
     },
     "metadata": {},
     "output_type": "display_data"
    },
    {
     "data": {
      "application/vnd.jupyter.widget-view+json": {
       "model_id": "50374cfaa2914127bcf37f00b44c21ee",
       "version_major": 2,
       "version_minor": 0
      },
      "text/plain": [
       "  0%|          | 0/92 [00:00<?, ?ba/s]"
      ]
     },
     "metadata": {},
     "output_type": "display_data"
    }
   ],
   "source": [
    "# tokenizing function\n",
    "def tokenize_func(example):\n",
    "    # padding will be done later\n",
    "    return tokenizer(example['Review'], truncation=True)\n",
    "\n",
    "tokenized_dataset = dataset.map(tokenize_func, batched=True)"
   ]
  },
  {
   "cell_type": "code",
   "execution_count": 11,
   "metadata": {},
   "outputs": [],
   "source": [
    "# Remove and rename columns\n",
    "tokenized_dataset = tokenized_dataset.remove_columns(['Review']) # tokenized 'Review' is saved in other columns\n",
    "tokenized_dataset = tokenized_dataset.rename_column('Rating', 'labels')  # BERT in hgf need a parameter named 'labels'\n",
    "tokenized_dataset.set_format('torch')\n"
   ]
  },
  {
   "cell_type": "code",
   "execution_count": 12,
   "metadata": {},
   "outputs": [
    {
     "data": {
      "text/plain": [
       "DatasetDict({\n",
       "    train: Dataset({\n",
       "        features: ['labels', 'attention_mask', 'input_ids', 'token_type_ids'],\n",
       "        num_rows: 367365\n",
       "    })\n",
       "    test: Dataset({\n",
       "        features: ['labels', 'attention_mask', 'input_ids', 'token_type_ids'],\n",
       "        num_rows: 91842\n",
       "    })\n",
       "})"
      ]
     },
     "execution_count": 12,
     "metadata": {},
     "output_type": "execute_result"
    }
   ],
   "source": [
    "tokenized_dataset"
   ]
  },
  {
   "cell_type": "code",
   "execution_count": 13,
   "metadata": {},
   "outputs": [],
   "source": [
    "# save tokenized dataset\n",
    "tokenized_dataset.save_to_disk('tokenized')"
   ]
  }
 ],
 "metadata": {
  "interpreter": {
   "hash": "991d44853c3d60ec3d8479499c66bed96110b43a4dd9c5da5728ccd6231325fa"
  },
  "kernelspec": {
   "display_name": "Python 3.6.2 64-bit ('pytorch-env': conda)",
   "name": "python3"
  },
  "language_info": {
   "codemirror_mode": {
    "name": "ipython",
    "version": 3
   },
   "file_extension": ".py",
   "mimetype": "text/x-python",
   "name": "python",
   "nbconvert_exporter": "python",
   "pygments_lexer": "ipython3",
   "version": "3.9.5"
  },
  "orig_nbformat": 4
 },
 "nbformat": 4,
 "nbformat_minor": 2
}
